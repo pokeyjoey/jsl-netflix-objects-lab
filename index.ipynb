{
 "cells": [
  {
   "cell_type": "markdown",
   "metadata": {},
   "source": [
    "# OOP Netflix"
   ]
  },
  {
   "cell_type": "markdown",
   "metadata": {},
   "source": [
    "### Introduction\n",
    "\n",
    "In this lesson, we'll practice object orientation by building an application that is structured to power Netflix.  Let's get started."
   ]
  },
  {
   "cell_type": "markdown",
   "metadata": {},
   "source": [
    "### Getting Started\n",
    "\n",
    "You can see that we have provided you a `src` folder with a file called `index` that already has the `store` setup.  The store is what we'll use to store the different instances that create.\n",
    "\n",
    "#### User\n",
    "\n",
    "A user simply consists of a user name.\n",
    "\n",
    "#### Episode class \n",
    "\n",
    "Let's begin by creating an `Episode` class.  Then create a `console.py` file, and import the Episode class.  Then get the tests in the `test_episode.py` file to pass.  \n",
    "\n",
    "* `words` - The words function returns the list of words in the episode script, excluding empty strings and `\\n` (newline) characters.\n",
    "\n",
    "#### Viewing \n",
    "\n",
    "Next we'll build a Viewing class.  A viewing represents each time a user views an episode, with the start time and stop time.\n",
    "\n",
    "* Begin by initializing the viewing class\n",
    "\n",
    "* `words` - The words function uses the `start_time` and `stop_time` to calculate the list of words read in each viewing.  There are 2.5 words viewed every second, and `start_time` and `stop_time` is stored in seconds.\n",
    "\n",
    "#### Netflix Player\n",
    "\n",
    "The netflix player is in charge of creating new viewings.  \n",
    "\n",
    "* `play_viewing` - This function plays the text of a viewing.  By that we mean it outputs the letters of the viewing script to the console.  You can see how to perform [this in the related stackoverflow post](https://stackoverflow.com/questions/4099422/printing-slowly-simulate-typing).  To display this in a test you need to run `pytest -s tests/`.  So you have to pass the `-s` flag for it to display in the test.  If you want to skip the display, just remove the `-s`.\n",
    "\n",
    "#### Filling in relations\n",
    "\n",
    "The following functions are tested in their respective files.    \n",
    "* `user#viewings` -  returns all of the viewings of a user  \n",
    "* `user#episodes` -  returns all of the episodes a user \n",
    "* `episode#viewings` - returns all users who viewing an episode\n",
    "* `episode#users` - returns all users who viewing an episode\n",
    "\n",
    "### Building the Netflix Player\n",
    "\n",
    "* `netflix_player#play_episode` - The play episode does the following.  \n",
    "    * If the episode has been viewed by the user, it *creates a new viewing* beginning where the user left off, and completing the episode.\n",
    "    To create the `play_episode` function, the following other functions may be helpful.\n",
    "\n",
    "    * `user.find_viewings_for(episode)`\n",
    "    * `user.last_stop_time_for(episode)`\n",
    "    * `episode.end_time()`"
   ]
  },
  {
   "cell_type": "markdown",
   "metadata": {},
   "source": [
    "### Bonus tasks"
   ]
  },
  {
   "cell_type": "markdown",
   "metadata": {},
   "source": [
    "* Build out the object oriented relations so that we have a tv_series, and tv_seaons, and the respective relations.\n",
    "* Update the `play_episode_for` function so that when it gets to the end of an episode it begins the next one.\n",
    "* See if you can clean up the script reader.  Currently it simply takes the length of a script as all of the words.  But see if you can identify the title, or even characters in the script.  \n",
    "* Write code so that the series, seasons, and episodes autopopulate by looking at the file structure?"
   ]
  }
 ],
 "metadata": {
  "kernelspec": {
   "display_name": "Python 3.9.10 64-bit",
   "language": "python",
   "name": "python3"
  },
  "language_info": {
   "name": "python",
   "version": "3.9.10"
  },
  "orig_nbformat": 4,
  "vscode": {
   "interpreter": {
    "hash": "aee8b7b246df8f9039afb4144a1f6fd8d2ca17a180786b69acc140d282b71a49"
   }
  }
 },
 "nbformat": 4,
 "nbformat_minor": 2
}
